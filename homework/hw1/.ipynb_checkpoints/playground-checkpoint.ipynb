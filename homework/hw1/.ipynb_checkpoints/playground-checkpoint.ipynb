{
 "cells": [
  {
   "cell_type": "code",
   "execution_count": 14,
   "metadata": {},
   "outputs": [],
   "source": [
    "import pickle\n",
    "import tensorflow as tf\n",
    "tf.enable_eager_execution()"
   ]
  },
  {
   "cell_type": "code",
   "execution_count": 2,
   "metadata": {
    "collapsed": true
   },
   "outputs": [],
   "source": [
    "data = pickle.load(open('./expert_data/Ant-v2.pkl', 'rb'))"
   ]
  },
  {
   "cell_type": "code",
   "execution_count": 17,
   "metadata": {},
   "outputs": [
    {
     "name": "stdout",
     "output_type": "stream",
     "text": [
      "19855\n",
      "19855\n",
      "(111,)\n",
      "(1, 8)\n",
      "(111,)\n",
      "(1, 8)\n",
      "[ 7.65894729e-01  9.96678911e-01  3.05997050e-02 -6.34524564e-02\n",
      "  4.08484087e-02 -1.75105324e-01  4.34095729e-01 -1.35321827e-01\n",
      " -3.98040127e-01  1.23258694e-01 -4.19088923e-01  6.87645401e-03\n",
      "  4.42215934e-01 -7.96401229e-01  2.56213603e-01 -5.60096587e-02\n",
      "  1.74812921e-01  2.46362901e-01  2.06194837e-01 -7.19358591e+00\n",
      "  8.35175450e+00 -2.49463017e+00 -1.05352166e+01  5.75006648e+00\n",
      " -7.60927751e+00  2.23205299e+00  9.54178478e+00  0.00000000e+00\n",
      "  0.00000000e+00  0.00000000e+00  0.00000000e+00  0.00000000e+00\n",
      "  0.00000000e+00  0.00000000e+00  0.00000000e+00  0.00000000e+00\n",
      "  0.00000000e+00  0.00000000e+00  0.00000000e+00  0.00000000e+00\n",
      "  0.00000000e+00  0.00000000e+00  0.00000000e+00  0.00000000e+00\n",
      "  0.00000000e+00  0.00000000e+00  0.00000000e+00  0.00000000e+00\n",
      "  0.00000000e+00  0.00000000e+00  0.00000000e+00  0.00000000e+00\n",
      "  0.00000000e+00  0.00000000e+00  0.00000000e+00  0.00000000e+00\n",
      "  0.00000000e+00  0.00000000e+00  0.00000000e+00  0.00000000e+00\n",
      "  0.00000000e+00  0.00000000e+00  0.00000000e+00  0.00000000e+00\n",
      "  0.00000000e+00  0.00000000e+00  0.00000000e+00  0.00000000e+00\n",
      "  0.00000000e+00  0.00000000e+00  0.00000000e+00  0.00000000e+00\n",
      "  0.00000000e+00  0.00000000e+00  0.00000000e+00  0.00000000e+00\n",
      "  0.00000000e+00  0.00000000e+00  0.00000000e+00  0.00000000e+00\n",
      "  0.00000000e+00  0.00000000e+00  0.00000000e+00  0.00000000e+00\n",
      "  0.00000000e+00  0.00000000e+00  0.00000000e+00  0.00000000e+00\n",
      "  0.00000000e+00  0.00000000e+00  0.00000000e+00  0.00000000e+00\n",
      "  0.00000000e+00  0.00000000e+00  0.00000000e+00  0.00000000e+00\n",
      "  0.00000000e+00  0.00000000e+00  0.00000000e+00  0.00000000e+00\n",
      "  0.00000000e+00  0.00000000e+00  0.00000000e+00  0.00000000e+00\n",
      "  0.00000000e+00  0.00000000e+00  0.00000000e+00  0.00000000e+00\n",
      "  0.00000000e+00  0.00000000e+00  0.00000000e+00]\n",
      "[[-0.59897727 -0.8153557   0.28499734 -0.7183107  -0.35134292  0.8939458\n",
      "  -0.12579104  1.2644668 ]]\n"
     ]
    }
   ],
   "source": [
    "print(len(data['observations']))\n",
    "print(len(data['actions']))\n",
    "\n",
    "print(data['observations'][0].shape)\n",
    "print(data['actions'][0].shape)\n",
    "\n",
    "print(data['observations'][1].shape)\n",
    "print(data['actions'][1].shape)\n",
    "\n",
    "print(data['observations'][1])\n",
    "print(data['actions'][1])"
   ]
  },
  {
   "cell_type": "code",
   "execution_count": 19,
   "metadata": {
    "collapsed": true
   },
   "outputs": [],
   "source": [
    "class Model(tf.keras.Model):\n",
    "    def __init__(self, hidden_units):\n",
    "        super(Model, self).__init__()\n",
    "        self.l1 = tf.keras.layers.Dense(hidden_units, input_shape=(111,), activation=tf.nn.relu)\n",
    "        self.l2 = tf.keras.layers.Dense(8)\n",
    "        \n",
    "    def call(self, x):\n",
    "        x = self.l1(x)\n",
    "        x = self.l2(x)\n",
    "        return x"
   ]
  },
  {
   "cell_type": "code",
   "execution_count": null,
   "metadata": {
    "collapsed": true
   },
   "outputs": [],
   "source": [
    "def main():\n",
    "    import argparse\n",
    "    parser = argparse.ArgumentParser()\n",
    "    parser.add_argument('pkl_file', type=str)\n",
    "    parser.add_argument('--epochs', type=int, default=20)\n",
    "    parser.add_argument('--hidden-units', type=int, default=50)\n",
    "    parser.add_argument('--lr', type=float, default=0.01)\n",
    "    parser.add_argument('--decay', type=float, default=1e-6)\n",
    "    parser.add_argument('--momentum', type=float, default=0.9)\n",
    "    parser.add_argument('--no-nesterov', action='store_true', default=False)\n",
    "    args = parser.parse_args()\n",
    "    \n",
    "    with tf.Session():\n",
    "        model = Model(args.hidden_units)\n",
    "        model.compile(\n",
    "            optimizer=tf.keras.optimizers.SGD(lr=args.lr, decay=args.decay, \n",
    "                                              momentum=args.momentum, \n",
    "                                              nesterov=not args.no_nesterov),\n",
    "            loss='mean_squared_error',\n",
    "            metrics=['sparse_categorical_accuracy'])"
   ]
  }
 ],
 "metadata": {
  "kernelspec": {
   "display_name": "Python [conda env:CS294]",
   "language": "python",
   "name": "conda-env-CS294-py"
  },
  "language_info": {
   "codemirror_mode": {
    "name": "ipython",
    "version": 3
   },
   "file_extension": ".py",
   "mimetype": "text/x-python",
   "name": "python",
   "nbconvert_exporter": "python",
   "pygments_lexer": "ipython3",
   "version": "3.5.2"
  }
 },
 "nbformat": 4,
 "nbformat_minor": 2
}
